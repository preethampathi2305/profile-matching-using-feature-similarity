{
 "metadata": {
  "language_info": {
   "codemirror_mode": {
    "name": "ipython",
    "version": 3
   },
   "file_extension": ".py",
   "mimetype": "text/x-python",
   "name": "python",
   "nbconvert_exporter": "python",
   "pygments_lexer": "ipython3",
   "version": "3.7.10"
  },
  "orig_nbformat": 2,
  "kernelspec": {
   "name": "python3710jvsc74a57bd041efd18d41e9856857181ce04afbdc62b2a39fc24e9300c0c43aa4795c7687e5",
   "display_name": "Python 3.7.10 64-bit ('myenv': conda)"
  }
 },
 "nbformat": 4,
 "nbformat_minor": 2,
 "cells": [
  {
   "cell_type": "code",
   "execution_count": 1,
   "metadata": {},
   "outputs": [],
   "source": [
    "from sklearn.feature_extraction.text import TfidfVectorizer\n",
    "import pandas as pd\n",
    "import numpy as np"
   ]
  },
  {
   "cell_type": "code",
   "execution_count": 30,
   "metadata": {},
   "outputs": [
    {
     "output_type": "execute_result",
     "data": {
      "text/plain": [
       "   age     status sex orientation       body_type               diet  \\\n",
       "0   22     single   m    straight  a little extra  strictly anything   \n",
       "1   35     single   m    straight         average       mostly other   \n",
       "2   38  available   m    straight            thin           anything   \n",
       "3   23     single   m    straight            thin         vegetarian   \n",
       "4   29     single   m    straight        athletic                NaN   \n",
       "\n",
       "     drinks      drugs                          education  \\\n",
       "0  socially      never      working on college/university   \n",
       "1     often  sometimes              working on space camp   \n",
       "2  socially        NaN     graduated from masters program   \n",
       "3  socially        NaN      working on college/university   \n",
       "4  socially      never  graduated from college/university   \n",
       "\n",
       "             ethnicity  ...  \\\n",
       "0         asian, white  ...   \n",
       "1                white  ...   \n",
       "2                  NaN  ...   \n",
       "3                white  ...   \n",
       "4  asian, black, other  ...   \n",
       "\n",
       "                                              essay0  \\\n",
       "0  about me:  i would love to think that i was so...   \n",
       "1  i am a chef: this is what that means. 1. i am ...   \n",
       "2  i'm not ashamed of much, but writing public te...   \n",
       "3          i work in a library and go to school. . .   \n",
       "4  hey how's it going? currently vague on the pro...   \n",
       "\n",
       "                                              essay1  \\\n",
       "0  currently working as an international agent fo...   \n",
       "1  dedicating everyday to being an unbelievable b...   \n",
       "2  i make nerdy software for musicians, artists, ...   \n",
       "3          reading things written by old dead people   \n",
       "4                         work work work work + play   \n",
       "\n",
       "                                              essay2  \\\n",
       "0  making people laugh. ranting about a good salt...   \n",
       "1  being silly. having ridiculous amonts of fun w...   \n",
       "2  improvising in different contexts. alternating...   \n",
       "3  playing synthesizers and organizing books acco...   \n",
       "4  creating imagery to look at: http://bagsbrown....   \n",
       "\n",
       "                                              essay3  \\\n",
       "0  the way i look. i am a six foot half asian, ha...   \n",
       "1                                                NaN   \n",
       "2  my large jaw and large glasses are the physica...   \n",
       "3                  socially awkward but i do my best   \n",
       "4            i smile a lot and my inquisitive nature   \n",
       "\n",
       "                                              essay4  \\\n",
       "0  books: absurdistan, the republic, of mice and ...   \n",
       "1  i am die hard christopher moore fan. i don't r...   \n",
       "2  okay this is where the cultural matrix gets so...   \n",
       "3  bataille, celine, beckett. . . lynch, jarmusch...   \n",
       "4  music: bands, rappers, musicians at the moment...   \n",
       "\n",
       "                                              essay5  \\\n",
       "0                  food. water. cell phone. shelter.   \n",
       "1  delicious porkness in all of its glories. my b...   \n",
       "2  movement conversation creation contemplation t...   \n",
       "3                                                NaN   \n",
       "4                                                NaN   \n",
       "\n",
       "                        essay6  \\\n",
       "0  duality and humorous things   \n",
       "1                          NaN   \n",
       "2                          NaN   \n",
       "3   cats and german philosophy   \n",
       "4                          NaN   \n",
       "\n",
       "                                              essay7  \\\n",
       "0  trying to find someone to hang out with. i am ...   \n",
       "1                                                NaN   \n",
       "2  viewing. listening. dancing. talking. drinking...   \n",
       "3                                                NaN   \n",
       "4                                                NaN   \n",
       "\n",
       "                                              essay8  \\\n",
       "0  i am new to california and looking for someone...   \n",
       "1  i am very open and will share just about anyth...   \n",
       "2  when i was five years old, i was known as \"the...   \n",
       "3                                                NaN   \n",
       "4                                                NaN   \n",
       "\n",
       "                                              essay9  \n",
       "0  you want to be swept off your feet! you are ti...  \n",
       "1                                                NaN  \n",
       "2  you are bright, open, intense, silly, ironic, ...  \n",
       "3                              you feel so inclined.  \n",
       "4                                                NaN  \n",
       "\n",
       "[5 rows x 31 columns]"
      ],
      "text/html": "<div>\n<style scoped>\n    .dataframe tbody tr th:only-of-type {\n        vertical-align: middle;\n    }\n\n    .dataframe tbody tr th {\n        vertical-align: top;\n    }\n\n    .dataframe thead th {\n        text-align: right;\n    }\n</style>\n<table border=\"1\" class=\"dataframe\">\n  <thead>\n    <tr style=\"text-align: right;\">\n      <th></th>\n      <th>age</th>\n      <th>status</th>\n      <th>sex</th>\n      <th>orientation</th>\n      <th>body_type</th>\n      <th>diet</th>\n      <th>drinks</th>\n      <th>drugs</th>\n      <th>education</th>\n      <th>ethnicity</th>\n      <th>...</th>\n      <th>essay0</th>\n      <th>essay1</th>\n      <th>essay2</th>\n      <th>essay3</th>\n      <th>essay4</th>\n      <th>essay5</th>\n      <th>essay6</th>\n      <th>essay7</th>\n      <th>essay8</th>\n      <th>essay9</th>\n    </tr>\n  </thead>\n  <tbody>\n    <tr>\n      <th>0</th>\n      <td>22</td>\n      <td>single</td>\n      <td>m</td>\n      <td>straight</td>\n      <td>a little extra</td>\n      <td>strictly anything</td>\n      <td>socially</td>\n      <td>never</td>\n      <td>working on college/university</td>\n      <td>asian, white</td>\n      <td>...</td>\n      <td>about me:  i would love to think that i was so...</td>\n      <td>currently working as an international agent fo...</td>\n      <td>making people laugh. ranting about a good salt...</td>\n      <td>the way i look. i am a six foot half asian, ha...</td>\n      <td>books: absurdistan, the republic, of mice and ...</td>\n      <td>food. water. cell phone. shelter.</td>\n      <td>duality and humorous things</td>\n      <td>trying to find someone to hang out with. i am ...</td>\n      <td>i am new to california and looking for someone...</td>\n      <td>you want to be swept off your feet! you are ti...</td>\n    </tr>\n    <tr>\n      <th>1</th>\n      <td>35</td>\n      <td>single</td>\n      <td>m</td>\n      <td>straight</td>\n      <td>average</td>\n      <td>mostly other</td>\n      <td>often</td>\n      <td>sometimes</td>\n      <td>working on space camp</td>\n      <td>white</td>\n      <td>...</td>\n      <td>i am a chef: this is what that means. 1. i am ...</td>\n      <td>dedicating everyday to being an unbelievable b...</td>\n      <td>being silly. having ridiculous amonts of fun w...</td>\n      <td>NaN</td>\n      <td>i am die hard christopher moore fan. i don't r...</td>\n      <td>delicious porkness in all of its glories. my b...</td>\n      <td>NaN</td>\n      <td>NaN</td>\n      <td>i am very open and will share just about anyth...</td>\n      <td>NaN</td>\n    </tr>\n    <tr>\n      <th>2</th>\n      <td>38</td>\n      <td>available</td>\n      <td>m</td>\n      <td>straight</td>\n      <td>thin</td>\n      <td>anything</td>\n      <td>socially</td>\n      <td>NaN</td>\n      <td>graduated from masters program</td>\n      <td>NaN</td>\n      <td>...</td>\n      <td>i'm not ashamed of much, but writing public te...</td>\n      <td>i make nerdy software for musicians, artists, ...</td>\n      <td>improvising in different contexts. alternating...</td>\n      <td>my large jaw and large glasses are the physica...</td>\n      <td>okay this is where the cultural matrix gets so...</td>\n      <td>movement conversation creation contemplation t...</td>\n      <td>NaN</td>\n      <td>viewing. listening. dancing. talking. drinking...</td>\n      <td>when i was five years old, i was known as \"the...</td>\n      <td>you are bright, open, intense, silly, ironic, ...</td>\n    </tr>\n    <tr>\n      <th>3</th>\n      <td>23</td>\n      <td>single</td>\n      <td>m</td>\n      <td>straight</td>\n      <td>thin</td>\n      <td>vegetarian</td>\n      <td>socially</td>\n      <td>NaN</td>\n      <td>working on college/university</td>\n      <td>white</td>\n      <td>...</td>\n      <td>i work in a library and go to school. . .</td>\n      <td>reading things written by old dead people</td>\n      <td>playing synthesizers and organizing books acco...</td>\n      <td>socially awkward but i do my best</td>\n      <td>bataille, celine, beckett. . . lynch, jarmusch...</td>\n      <td>NaN</td>\n      <td>cats and german philosophy</td>\n      <td>NaN</td>\n      <td>NaN</td>\n      <td>you feel so inclined.</td>\n    </tr>\n    <tr>\n      <th>4</th>\n      <td>29</td>\n      <td>single</td>\n      <td>m</td>\n      <td>straight</td>\n      <td>athletic</td>\n      <td>NaN</td>\n      <td>socially</td>\n      <td>never</td>\n      <td>graduated from college/university</td>\n      <td>asian, black, other</td>\n      <td>...</td>\n      <td>hey how's it going? currently vague on the pro...</td>\n      <td>work work work work + play</td>\n      <td>creating imagery to look at: http://bagsbrown....</td>\n      <td>i smile a lot and my inquisitive nature</td>\n      <td>music: bands, rappers, musicians at the moment...</td>\n      <td>NaN</td>\n      <td>NaN</td>\n      <td>NaN</td>\n      <td>NaN</td>\n      <td>NaN</td>\n    </tr>\n  </tbody>\n</table>\n<p>5 rows × 31 columns</p>\n</div>"
     },
     "metadata": {},
     "execution_count": 30
    }
   ],
   "source": [
    "df=pd.read_csv(\"okcupid_profiles.csv\")\n",
    "df.head()"
   ]
  },
  {
   "cell_type": "code",
   "execution_count": 11,
   "metadata": {},
   "outputs": [
    {
     "output_type": "execute_result",
     "data": {
      "text/plain": [
       "    age  status sex orientation       body_type               diet    drinks  \\\n",
       "0    22  single   m    straight  a little extra  strictly anything  socially   \n",
       "19   33  single   m    straight        athletic    mostly anything  socially   \n",
       "22   30  single   m    straight             fit    mostly anything  socially   \n",
       "94   29  single   m    straight             fit    mostly anything  socially   \n",
       "98   31  single   f    straight           curvy           anything  socially   \n",
       "\n",
       "        drugs                          education     ethnicity  ...  \\\n",
       "0       never      working on college/university  asian, white  ...   \n",
       "19      never     graduated from masters program         white  ...   \n",
       "22      never  graduated from college/university         white  ...   \n",
       "94  sometimes  graduated from college/university         white  ...   \n",
       "98  sometimes     graduated from masters program         white  ...   \n",
       "\n",
       "                                               essay0  \\\n",
       "0   about me:  i would love to think that i was so...   \n",
       "19  i relocated to san francisco half a year ago. ...   \n",
       "22  i tend to think the same way a comedian does a...   \n",
       "94  my names josh, and i create art for a living. ...   \n",
       "98  one day i will mod r/hotchickswithspreadsheets...   \n",
       "\n",
       "                                               essay1  \\\n",
       "0   currently working as an international agent fo...   \n",
       "19  i left my comfort zone far behind in europe, a...   \n",
       "22  i'm a supply and demand manager for a sustaina...   \n",
       "94                                          living it   \n",
       "98  presently, holyshitwhatamidoinghere and the sp...   \n",
       "\n",
       "                                               essay2  \\\n",
       "0   making people laugh. ranting about a good salt...   \n",
       "19  listening, connecting emotionally, analyzing t...   \n",
       "22  making predictions, planning anything (i'm pre...   \n",
       "94                                         everything   \n",
       "98  algebra, alliteration, big spoon and little sp...   \n",
       "\n",
       "                                               essay3  \\\n",
       "0   the way i look. i am a six foot half asian, ha...   \n",
       "19  cheerful, open, curious, direct, active, sport...   \n",
       "22        that i'm smiling. pretty much at all times.   \n",
       "94                        i honestly couldn't say....   \n",
       "98  i look a lot like that chick you banged your f...   \n",
       "\n",
       "                                               essay4  \\\n",
       "0   books: absurdistan, the republic, of mice and ...   \n",
       "19  the art of happiness by dalai lama, how findin...   \n",
       "22  a confederacy of dunces and infinite jest are ...   \n",
       "94  -books: anything joseph campbell - osho - terr...   \n",
       "98                - wikipedia - yes - yes - yes - yes   \n",
       "\n",
       "                                               essay5  \\\n",
       "0                   food. water. cell phone. shelter.   \n",
       "19  juicy fruit, water, swimming workouts, yoga pr...   \n",
       "22  1) sf restaurants, could they be any better? 2...   \n",
       "94                                   invalid question   \n",
       "98  civility, hope, basic arithmetic, any of the v...   \n",
       "\n",
       "                                               essay6  \\\n",
       "0                         duality and humorous things   \n",
       "19            my passions and searching for new ones.   \n",
       "22  how to build an empire and a legacy. so far th...   \n",
       "94                                          the world   \n",
       "98  macros. also, puppies. i worry about the futur...   \n",
       "\n",
       "                                               essay7  \\\n",
       "0   trying to find someone to hang out with. i am ...   \n",
       "19  having dinner and a night out with my close fr...   \n",
       "22  having beers with any number of friends and pr...   \n",
       "94                                               out.   \n",
       "98                  home, high, and doing the dishes.   \n",
       "\n",
       "                                               essay8  \\\n",
       "0   i am new to california and looking for someone...   \n",
       "19  i'm pretty direct, so you can ask and i'll tel...   \n",
       "22  when i was a kid i thought steven segal was re...   \n",
       "94                                                 no   \n",
       "98  i'm terrible at small talk which makes for awk...   \n",
       "\n",
       "                                               essay9  \n",
       "0   you want to be swept off your feet! you are ti...  \n",
       "19                                 you wanna meet up.  \n",
       "22  you're a positive and creative personality loo...  \n",
       "94                                    you're curious.  \n",
       "98                      you find challenge rewarding.  \n",
       "\n",
       "[5 rows x 31 columns]"
      ],
      "text/html": "<div>\n<style scoped>\n    .dataframe tbody tr th:only-of-type {\n        vertical-align: middle;\n    }\n\n    .dataframe tbody tr th {\n        vertical-align: top;\n    }\n\n    .dataframe thead th {\n        text-align: right;\n    }\n</style>\n<table border=\"1\" class=\"dataframe\">\n  <thead>\n    <tr style=\"text-align: right;\">\n      <th></th>\n      <th>age</th>\n      <th>status</th>\n      <th>sex</th>\n      <th>orientation</th>\n      <th>body_type</th>\n      <th>diet</th>\n      <th>drinks</th>\n      <th>drugs</th>\n      <th>education</th>\n      <th>ethnicity</th>\n      <th>...</th>\n      <th>essay0</th>\n      <th>essay1</th>\n      <th>essay2</th>\n      <th>essay3</th>\n      <th>essay4</th>\n      <th>essay5</th>\n      <th>essay6</th>\n      <th>essay7</th>\n      <th>essay8</th>\n      <th>essay9</th>\n    </tr>\n  </thead>\n  <tbody>\n    <tr>\n      <th>0</th>\n      <td>22</td>\n      <td>single</td>\n      <td>m</td>\n      <td>straight</td>\n      <td>a little extra</td>\n      <td>strictly anything</td>\n      <td>socially</td>\n      <td>never</td>\n      <td>working on college/university</td>\n      <td>asian, white</td>\n      <td>...</td>\n      <td>about me:  i would love to think that i was so...</td>\n      <td>currently working as an international agent fo...</td>\n      <td>making people laugh. ranting about a good salt...</td>\n      <td>the way i look. i am a six foot half asian, ha...</td>\n      <td>books: absurdistan, the republic, of mice and ...</td>\n      <td>food. water. cell phone. shelter.</td>\n      <td>duality and humorous things</td>\n      <td>trying to find someone to hang out with. i am ...</td>\n      <td>i am new to california and looking for someone...</td>\n      <td>you want to be swept off your feet! you are ti...</td>\n    </tr>\n    <tr>\n      <th>19</th>\n      <td>33</td>\n      <td>single</td>\n      <td>m</td>\n      <td>straight</td>\n      <td>athletic</td>\n      <td>mostly anything</td>\n      <td>socially</td>\n      <td>never</td>\n      <td>graduated from masters program</td>\n      <td>white</td>\n      <td>...</td>\n      <td>i relocated to san francisco half a year ago. ...</td>\n      <td>i left my comfort zone far behind in europe, a...</td>\n      <td>listening, connecting emotionally, analyzing t...</td>\n      <td>cheerful, open, curious, direct, active, sport...</td>\n      <td>the art of happiness by dalai lama, how findin...</td>\n      <td>juicy fruit, water, swimming workouts, yoga pr...</td>\n      <td>my passions and searching for new ones.</td>\n      <td>having dinner and a night out with my close fr...</td>\n      <td>i'm pretty direct, so you can ask and i'll tel...</td>\n      <td>you wanna meet up.</td>\n    </tr>\n    <tr>\n      <th>22</th>\n      <td>30</td>\n      <td>single</td>\n      <td>m</td>\n      <td>straight</td>\n      <td>fit</td>\n      <td>mostly anything</td>\n      <td>socially</td>\n      <td>never</td>\n      <td>graduated from college/university</td>\n      <td>white</td>\n      <td>...</td>\n      <td>i tend to think the same way a comedian does a...</td>\n      <td>i'm a supply and demand manager for a sustaina...</td>\n      <td>making predictions, planning anything (i'm pre...</td>\n      <td>that i'm smiling. pretty much at all times.</td>\n      <td>a confederacy of dunces and infinite jest are ...</td>\n      <td>1) sf restaurants, could they be any better? 2...</td>\n      <td>how to build an empire and a legacy. so far th...</td>\n      <td>having beers with any number of friends and pr...</td>\n      <td>when i was a kid i thought steven segal was re...</td>\n      <td>you're a positive and creative personality loo...</td>\n    </tr>\n    <tr>\n      <th>94</th>\n      <td>29</td>\n      <td>single</td>\n      <td>m</td>\n      <td>straight</td>\n      <td>fit</td>\n      <td>mostly anything</td>\n      <td>socially</td>\n      <td>sometimes</td>\n      <td>graduated from college/university</td>\n      <td>white</td>\n      <td>...</td>\n      <td>my names josh, and i create art for a living. ...</td>\n      <td>living it</td>\n      <td>everything</td>\n      <td>i honestly couldn't say....</td>\n      <td>-books: anything joseph campbell - osho - terr...</td>\n      <td>invalid question</td>\n      <td>the world</td>\n      <td>out.</td>\n      <td>no</td>\n      <td>you're curious.</td>\n    </tr>\n    <tr>\n      <th>98</th>\n      <td>31</td>\n      <td>single</td>\n      <td>f</td>\n      <td>straight</td>\n      <td>curvy</td>\n      <td>anything</td>\n      <td>socially</td>\n      <td>sometimes</td>\n      <td>graduated from masters program</td>\n      <td>white</td>\n      <td>...</td>\n      <td>one day i will mod r/hotchickswithspreadsheets...</td>\n      <td>presently, holyshitwhatamidoinghere and the sp...</td>\n      <td>algebra, alliteration, big spoon and little sp...</td>\n      <td>i look a lot like that chick you banged your f...</td>\n      <td>- wikipedia - yes - yes - yes - yes</td>\n      <td>civility, hope, basic arithmetic, any of the v...</td>\n      <td>macros. also, puppies. i worry about the futur...</td>\n      <td>home, high, and doing the dishes.</td>\n      <td>i'm terrible at small talk which makes for awk...</td>\n      <td>you find challenge rewarding.</td>\n    </tr>\n  </tbody>\n</table>\n<p>5 rows × 31 columns</p>\n</div>"
     },
     "metadata": {},
     "execution_count": 11
    }
   ],
   "source": [
    "df.dropna(inplace=True)\n",
    "df.head()"
   ]
  },
  {
   "cell_type": "code",
   "execution_count": 31,
   "metadata": {},
   "outputs": [
    {
     "output_type": "execute_result",
     "data": {
      "text/plain": [
       "   age orientation       body_type               diet    drinks      drugs  \\\n",
       "0   22    straight  a little extra  strictly anything  socially      never   \n",
       "1   35    straight         average       mostly other     often  sometimes   \n",
       "2   38    straight            thin           anything  socially        NaN   \n",
       "3   23    straight            thin         vegetarian  socially        NaN   \n",
       "4   29    straight        athletic                NaN  socially      never   \n",
       "\n",
       "                           education            ethnicity  height  income  \\\n",
       "0      working on college/university         asian, white    75.0      -1   \n",
       "1              working on space camp                white    70.0   80000   \n",
       "2     graduated from masters program                  NaN    68.0      -1   \n",
       "3      working on college/university                white    71.0   20000   \n",
       "4  graduated from college/university  asian, black, other    66.0      -1   \n",
       "\n",
       "                           job       last_online  \\\n",
       "0               transportation  2012-06-28-20-30   \n",
       "1         hospitality / travel  2012-06-29-21-41   \n",
       "2                          NaN  2012-06-27-09-10   \n",
       "3                      student  2012-06-28-14-22   \n",
       "4  artistic / musical / writer  2012-06-27-21-26   \n",
       "\n",
       "                          location                               offspring  \\\n",
       "0  south san francisco, california  doesn't have kids, but might want them   \n",
       "1              oakland, california  doesn't have kids, but might want them   \n",
       "2        san francisco, california                                     NaN   \n",
       "3             berkeley, california                       doesn't want kids   \n",
       "4        san francisco, california                                     NaN   \n",
       "\n",
       "                        pets                                  religion  \\\n",
       "0  likes dogs and likes cats     agnosticism and very serious about it   \n",
       "1  likes dogs and likes cats  agnosticism but not too serious about it   \n",
       "2                   has cats                                       NaN   \n",
       "3                 likes cats                                       NaN   \n",
       "4  likes dogs and likes cats                                       NaN   \n",
       "\n",
       "                                 sign     smokes  \\\n",
       "0                              gemini  sometimes   \n",
       "1                              cancer         no   \n",
       "2  pisces but it doesn&rsquo;t matter         no   \n",
       "3                              pisces         no   \n",
       "4                            aquarius         no   \n",
       "\n",
       "                                              speaks  \n",
       "0                                            english  \n",
       "1  english (fluently), spanish (poorly), french (...  \n",
       "2                               english, french, c++  \n",
       "3                           english, german (poorly)  \n",
       "4                                            english  "
      ],
      "text/html": "<div>\n<style scoped>\n    .dataframe tbody tr th:only-of-type {\n        vertical-align: middle;\n    }\n\n    .dataframe tbody tr th {\n        vertical-align: top;\n    }\n\n    .dataframe thead th {\n        text-align: right;\n    }\n</style>\n<table border=\"1\" class=\"dataframe\">\n  <thead>\n    <tr style=\"text-align: right;\">\n      <th></th>\n      <th>age</th>\n      <th>orientation</th>\n      <th>body_type</th>\n      <th>diet</th>\n      <th>drinks</th>\n      <th>drugs</th>\n      <th>education</th>\n      <th>ethnicity</th>\n      <th>height</th>\n      <th>income</th>\n      <th>job</th>\n      <th>last_online</th>\n      <th>location</th>\n      <th>offspring</th>\n      <th>pets</th>\n      <th>religion</th>\n      <th>sign</th>\n      <th>smokes</th>\n      <th>speaks</th>\n    </tr>\n  </thead>\n  <tbody>\n    <tr>\n      <th>0</th>\n      <td>22</td>\n      <td>straight</td>\n      <td>a little extra</td>\n      <td>strictly anything</td>\n      <td>socially</td>\n      <td>never</td>\n      <td>working on college/university</td>\n      <td>asian, white</td>\n      <td>75.0</td>\n      <td>-1</td>\n      <td>transportation</td>\n      <td>2012-06-28-20-30</td>\n      <td>south san francisco, california</td>\n      <td>doesn't have kids, but might want them</td>\n      <td>likes dogs and likes cats</td>\n      <td>agnosticism and very serious about it</td>\n      <td>gemini</td>\n      <td>sometimes</td>\n      <td>english</td>\n    </tr>\n    <tr>\n      <th>1</th>\n      <td>35</td>\n      <td>straight</td>\n      <td>average</td>\n      <td>mostly other</td>\n      <td>often</td>\n      <td>sometimes</td>\n      <td>working on space camp</td>\n      <td>white</td>\n      <td>70.0</td>\n      <td>80000</td>\n      <td>hospitality / travel</td>\n      <td>2012-06-29-21-41</td>\n      <td>oakland, california</td>\n      <td>doesn't have kids, but might want them</td>\n      <td>likes dogs and likes cats</td>\n      <td>agnosticism but not too serious about it</td>\n      <td>cancer</td>\n      <td>no</td>\n      <td>english (fluently), spanish (poorly), french (...</td>\n    </tr>\n    <tr>\n      <th>2</th>\n      <td>38</td>\n      <td>straight</td>\n      <td>thin</td>\n      <td>anything</td>\n      <td>socially</td>\n      <td>NaN</td>\n      <td>graduated from masters program</td>\n      <td>NaN</td>\n      <td>68.0</td>\n      <td>-1</td>\n      <td>NaN</td>\n      <td>2012-06-27-09-10</td>\n      <td>san francisco, california</td>\n      <td>NaN</td>\n      <td>has cats</td>\n      <td>NaN</td>\n      <td>pisces but it doesn&amp;rsquo;t matter</td>\n      <td>no</td>\n      <td>english, french, c++</td>\n    </tr>\n    <tr>\n      <th>3</th>\n      <td>23</td>\n      <td>straight</td>\n      <td>thin</td>\n      <td>vegetarian</td>\n      <td>socially</td>\n      <td>NaN</td>\n      <td>working on college/university</td>\n      <td>white</td>\n      <td>71.0</td>\n      <td>20000</td>\n      <td>student</td>\n      <td>2012-06-28-14-22</td>\n      <td>berkeley, california</td>\n      <td>doesn't want kids</td>\n      <td>likes cats</td>\n      <td>NaN</td>\n      <td>pisces</td>\n      <td>no</td>\n      <td>english, german (poorly)</td>\n    </tr>\n    <tr>\n      <th>4</th>\n      <td>29</td>\n      <td>straight</td>\n      <td>athletic</td>\n      <td>NaN</td>\n      <td>socially</td>\n      <td>never</td>\n      <td>graduated from college/university</td>\n      <td>asian, black, other</td>\n      <td>66.0</td>\n      <td>-1</td>\n      <td>artistic / musical / writer</td>\n      <td>2012-06-27-21-26</td>\n      <td>san francisco, california</td>\n      <td>NaN</td>\n      <td>likes dogs and likes cats</td>\n      <td>NaN</td>\n      <td>aquarius</td>\n      <td>no</td>\n      <td>english</td>\n    </tr>\n  </tbody>\n</table>\n</div>"
     },
     "metadata": {},
     "execution_count": 31
    }
   ],
   "source": [
    "df.drop(['status','sex','essay0','essay1','essay2','essay3','essay4','essay5','essay6','essay7','essay8','essay9'],inplace=True,axis=1)\n",
    "df.head()"
   ]
  },
  {
   "cell_type": "code",
   "execution_count": 38,
   "metadata": {},
   "outputs": [
    {
     "output_type": "execute_result",
     "data": {
      "text/plain": [
       "[\"22 straight a little extra strictly anything socially never working on college/university asian, white 75.0 -1 transportation 2012-06-28-20-30 south san francisco, california doesn't have kids, but might want them likes dogs and likes cats agnosticism and very serious about it gemini sometimes english\",\n",
       " \"35 straight average mostly other often sometimes working on space camp white 70.0 80000 hospitality / travel 2012-06-29-21-41 oakland, california doesn't have kids, but might want them likes dogs and likes cats agnosticism but not too serious about it cancer no english (fluently), spanish (poorly), french (poorly)\",\n",
       " '38 straight thin anything socially nan graduated from masters program nan 68.0 -1 nan 2012-06-27-09-10 san francisco, california nan has cats nan pisces but it doesn&rsquo;t matter no english, french, c++',\n",
       " \"23 straight thin vegetarian socially nan working on college/university white 71.0 20000 student 2012-06-28-14-22 berkeley, california doesn't want kids likes cats nan pisces no english, german (poorly)\",\n",
       " '29 straight athletic nan socially never graduated from college/university asian, black, other 66.0 -1 artistic / musical / writer 2012-06-27-21-26 san francisco, california nan likes dogs and likes cats nan aquarius no english']"
      ]
     },
     "metadata": {},
     "execution_count": 38
    }
   ],
   "source": [
    "arr_rows=[]\n",
    "for i in df.values:\n",
    "    arr_rows.append(\" \".join(i.astype('str')))\n",
    "arr_rows[:5]"
   ]
  },
  {
   "cell_type": "code",
   "execution_count": 39,
   "metadata": {},
   "outputs": [
    {
     "output_type": "stream",
     "name": "stdout",
     "text": [
      "22 straight a little extra strictly anything socially never working on college university asian white 75 0 1 transportation 2012 06 28 20 30 south san francisco california doesn t have kids but might want them likes dogs and likes cats agnosticism and very serious about it gemini sometimes english\n"
     ]
    }
   ],
   "source": [
    "from nltk.tokenize import RegexpTokenizer\n",
    "tokenizer=RegexpTokenizer('[a-zA-Z0-9]+')\n",
    "for i in range(len(arr_rows)):\n",
    "    arr_rows[i]=\" \".join(tokenizer.tokenize(arr_rows[i]))\n",
    "print(arr_rows[0])"
   ]
  },
  {
   "cell_type": "code",
   "execution_count": 43,
   "metadata": {},
   "outputs": [],
   "source": [
    "from sklearn.metrics.pairwise import cosine_similarity\n",
    "from sklearn.feature_extraction.text import TfidfVectorizer\n",
    "tdf=TfidfVectorizer()\n",
    "v_arr_rows=tdf.fit_transform(arr_rows)"
   ]
  },
  {
   "cell_type": "code",
   "execution_count": 44,
   "metadata": {},
   "outputs": [],
   "source": [
    "metric_df=cosine_similarity(v_arr_rows[:100])"
   ]
  },
  {
   "cell_type": "code",
   "execution_count": 51,
   "metadata": {},
   "outputs": [
    {
     "output_type": "stream",
     "name": "stdout",
     "text": [
      "2 46\n18 59\n19 31\n19 36\n19 49\n20 78\n21 22\n22 21\n22 37\n22 82\n28 39\n31 19\n36 19\n36 49\n36 52\n37 22\n39 28\n39 91\n46 2\n47 94\n49 19\n49 36\n52 36\n52 83\n59 18\n78 20\n82 22\n83 52\n84 91\n91 39\n91 84\n94 47\n"
     ]
    }
   ],
   "source": [
    "for i in range(100):\n",
    "    for j in range(100):\n",
    "        if metric_df[i][j]>0.5 and i!=j:\n",
    "            print(i,j)"
   ]
  },
  {
   "cell_type": "code",
   "execution_count": null,
   "metadata": {},
   "outputs": [],
   "source": []
  }
 ]
}